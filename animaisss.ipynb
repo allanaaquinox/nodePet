{
  "nbformat": 4,
  "nbformat_minor": 0,
  "metadata": {
    "colab": {
      "provenance": [],
      "authorship_tag": "ABX9TyNYB9OWnXqIacedx9+rJzaz",
      "include_colab_link": true
    },
    "kernelspec": {
      "name": "python3",
      "display_name": "Python 3"
    },
    "language_info": {
      "name": "python"
    }
  },
  "cells": [
    {
      "cell_type": "markdown",
      "metadata": {
        "id": "view-in-github",
        "colab_type": "text"
      },
      "source": [
        "<a href=\"https://colab.research.google.com/github/allanaaquinox/nodePet/blob/main/animaisss.ipynb\" target=\"_parent\"><img src=\"https://colab.research.google.com/assets/colab-badge.svg\" alt=\"Open In Colab\"/></a>"
      ]
    },
    {
      "cell_type": "code",
      "execution_count": null,
      "metadata": {
        "id": "24YQjeFczeIF"
      },
      "outputs": [],
      "source": [
        "class Animal():\n",
        "    def __init__(self, nome, peso):\n",
        "      self.__nome = nome\n",
        "      self.__peso = peso\n",
        "    def __str__(self):\n",
        "        return 'Nome: %s \\nPeso: %f' % (self.__nome, self.peso)\n",
        "    def __gt__(self, other):\n",
        "        return self.__peso > other.__peso\n",
        "    def __add__(self, other):\n",
        "      return Animal(self.__nome + ', ' + other.__nome, self.__peso + other.__peso)\n",
        "      \n",
        "    def alimentar(self, comida):\n",
        "          self.peso += comida\n",
        "\n",
        "    def info(self):\n",
        "      pri = '-='*6\n",
        "      print(f'{pri} Animal {pri}')\n",
        "      print('Nome: ', self.nome)\n",
        "      print('Peso: ', self.peso)\n",
        "      print(f'{pri*2}=-=-=-=-=')\n",
        "    \n",
        "    @property\n",
        "    def nome(self):\n",
        "      return self.__nome\n",
        "      \n",
        "    @nome.setter\n",
        "    def nome(self, new_name):\n",
        "      if type(new_name) == type(str()):\n",
        "        self.__nome = new_name\n",
        "\n",
        "    @property\n",
        "    def peso(self):\n",
        "      return self.__peso\n",
        "    \n",
        "    @peso.setter\n",
        "    def peso(self, new_peso):\n",
        "      if type(new_peso) == type(int()):\n",
        "        self.__peso = new_peso\n",
        "\n",
        "        class Mamifero:\n",
        "          def __init__(self, nome, porte, tipo):\n",
        "            self.nome = nome\n",
        "            self.porte = porte\n",
        "\n",
        "            class Repteis: \n",
        "              def __init__(self, nome, porte, tipo):\n",
        "                self.nome = nome\n",
        "                self.porte = porte\n",
        "                self.tipo = tipo\n",
        "          "
      ]
    }
  ]
}